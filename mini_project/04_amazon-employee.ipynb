version https://git-lfs.github.com/spec/v1
oid sha256:1c3df607a30329aa6d5168257284a15b3704483b191d740d998ff68a4d171883
size 19217555
