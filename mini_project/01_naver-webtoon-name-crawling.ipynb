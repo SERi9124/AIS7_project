version https://git-lfs.github.com/spec/v1
oid sha256:5d5d6a6003eb0d46e1277a0a553e3f22e5b18acb73e13f03fba7de408d345506
size 18920
