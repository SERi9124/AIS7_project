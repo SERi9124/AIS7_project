version https://git-lfs.github.com/spec/v1
oid sha256:2b3372b98397ac57b6a39002a6a5e0850c4ec57fb5d62030392870e31421611f
size 2216856
